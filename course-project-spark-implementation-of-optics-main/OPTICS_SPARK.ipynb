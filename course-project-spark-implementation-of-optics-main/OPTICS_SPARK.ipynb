{
 "cells": [
  {
   "cell_type": "code",
   "execution_count": 1,
   "id": "8faf1a9a-e2dd-455e-8928-32463a01100c",
   "metadata": {},
   "outputs": [],
   "source": [
    "from sklearn.neighbors import NearestNeighbors\n",
    "import numpy as np\n",
    "import pandas as pd\n",
    "import matplotlib.pyplot as plt\n",
    "import matplotlib\n",
    "import operator"
   ]
  },
  {
   "cell_type": "markdown",
   "id": "3a1e8044-c772-420c-b482-78169d966044",
   "metadata": {},
   "source": [
    "### Define Parameters"
   ]
  },
  {
   "cell_type": "code",
   "execution_count": 2,
   "id": "ab93eb7e-9b44-4066-93cf-d995e6e77bd6",
   "metadata": {},
   "outputs": [],
   "source": [
    "# Define parameters\n",
    "PARTITIONS = 48\n",
    "\n",
    "Eps,MinPts = float('inf'),15"
   ]
  },
  {
   "cell_type": "markdown",
   "id": "3cf8f311-494f-4e88-bdb5-7ef1fed6e47d",
   "metadata": {},
   "source": [
    "### Compute Global distance matrix"
   ]
  },
  {
   "cell_type": "code",
   "execution_count": 3,
   "id": "149e43ac-dfef-48c5-b646-4c315d03f532",
   "metadata": {},
   "outputs": [],
   "source": [
    "def distance(x,y):\n",
    "    \"\"\"\n",
    "    Coumpute l2 distance\n",
    "    \"\"\"\n",
    "    return np.linalg.norm(x-y)"
   ]
  },
  {
   "cell_type": "code",
   "execution_count": 4,
   "id": "9ebe78cd-cdbe-4a2c-95a2-deeb40906e09",
   "metadata": {},
   "outputs": [
    {
     "name": "stderr",
     "output_type": "stream",
     "text": [
      "                                                                                \r"
     ]
    }
   ],
   "source": [
    "path = \"Data/a1.txt\"  #file path\n",
    "data = sc.textFile(path,PARTITIONS).map(lambda txt : np.array(txt.split()).astype(float)) #split the txt line and convert str to float\n",
    "                         \n",
    "points = data.collect()\n",
    "\n",
    "n = len(points) #length of data\n",
    "\n",
    "#create neighbor finder using ball-tree in sklearn\n",
    "neigh = NearestNeighbors(n_neighbors=MinPts, radius=float('inf'))\n",
    "neigh.fit(points)\n",
    "bc_knnobj = sc.broadcast(neigh)\n",
    "\n",
    "# Get neighbors for each point, distributedly\n",
    "# Each item ((dis_vec),(index))\n",
    "kneighbor = data.map(lambda x: bc_knnobj.value.kneighbors(x.reshape(1, -1), MinPts, return_distance=True))\n",
    "kneighbor.cache()\n",
    "\n",
    "points = list(zip(range(n),points)) #list of (id,points) "
   ]
  },
  {
   "cell_type": "markdown",
   "id": "f9a02b29-0b99-4a58-871e-6e1349849b6e",
   "metadata": {},
   "source": [
    "### Compute Core points"
   ]
  },
  {
   "cell_type": "code",
   "execution_count": 5,
   "id": "04d30aa9-0e91-4396-8182-72e7e70440aa",
   "metadata": {},
   "outputs": [
    {
     "name": "stderr",
     "output_type": "stream",
     "text": [
      "                                                                                \r"
     ]
    }
   ],
   "source": [
    "# point_rdd = sc.parallelize(points,PARTITIONS_1).cache() #store it for convenience\n",
    "# tmp = point_rdd.map(CorePoints).filter(lambda x: x != None).cache()\n",
    "\n",
    "# Get core points & core distance\n",
    "core_Points = kneighbor.map(lambda x:(x[1][0][0],x[1][0])).cache() #(data index, neighbor)\n",
    "core_Distance = kneighbor.map(lambda x:(x[1][0][0],x[0][0][-1])).collectAsMap()# (data index, dis_vec[MinPts-1])\n",
    "\n",
    "core_point = list(core_Distance.keys())#return core point index"
   ]
  },
  {
   "cell_type": "markdown",
   "id": "d26dda6b-f2f4-4d7b-aa0f-44de06f72a7a",
   "metadata": {},
   "source": [
    "### Compute Reachability Distance"
   ]
  },
  {
   "cell_type": "code",
   "execution_count": 6,
   "id": "494c005c-485b-4778-864c-1384695fa459",
   "metadata": {},
   "outputs": [],
   "source": [
    "def reachability_distance(data):\n",
    "    \"\"\"\n",
    "    Function to compute reachbility distance row by row respect of given data\n",
    "    \n",
    "    data is format of (index, (features1, feature2,...))\n",
    "    \"\"\"\n",
    "    global n\n",
    "    \n",
    "    rd_row = np.full((1,n),Eps)\n",
    "    \n",
    "    #calculate the row reachability distance. This can be improved \n",
    "    for c_p in core_point:\n",
    "        # print(core_Distance[c_p])\n",
    "        # print(distributed_distance[data[0]][c_p])\n",
    "        rd_row[0,c_p] = np.maximum(core_Distance[c_p],distance(data[1],points[c_p][1]))\n",
    "    \n",
    "    return (data[0],rd_row)"
   ]
  },
  {
   "cell_type": "code",
   "execution_count": 7,
   "id": "d4ed05cf-d8aa-421f-812c-fdc56fccebad",
   "metadata": {},
   "outputs": [
    {
     "name": "stderr",
     "output_type": "stream",
     "text": [
      "                                                                                \r"
     ]
    }
   ],
   "source": [
    "#A dict : {index of point:distance vector}\n",
    "sc.broadcast(core_Distance)\n",
    "sc.broadcast(core_point)\n",
    "\n",
    "rd_Matrix = sc.parallelize(points,PARTITIONS).map(reachability_distance).collectAsMap()\n",
    "\n",
    "del core_Distance,points #delete variables will not be used later"
   ]
  },
  {
   "cell_type": "markdown",
   "id": "86d7eb0a-388c-44e6-a7c5-0fb482438cd8",
   "metadata": {
    "tags": []
   },
   "source": [
    "### Update"
   ]
  },
  {
   "cell_type": "code",
   "execution_count": 8,
   "id": "33a6c1d9-ce05-449d-b990-2183036d1d3b",
   "metadata": {},
   "outputs": [],
   "source": [
    "def update_part_1(neighbor,point):\n",
    "    \"\"\"\n",
    "    Function to update (Part I): Update Seed dictionary\n",
    "    \n",
    "    Since for each neighbor modification will only happen on key=neighbor, we can\n",
    "    use map function to decide whether to modify or not and reduce the dict in the driver\n",
    "    \n",
    "    neighbor : index of point\n",
    "    \"\"\"\n",
    "    \n",
    "    key = neighbor\n",
    "    \n",
    "    if neighbor not in Orderedlist:\n",
    "        \n",
    "        #val the value corresponds to key\n",
    "        if neighbor not in seed.keys(): #if current point not in seed\n",
    "            val = rd_Matrix[point][0][neighbor]\n",
    "        else:\n",
    "            val = np.minimum(rd_Matrix[point][0][neighbor],seed[neighbor])\n",
    "        \n",
    "        return (key,val)#update part\n",
    "    \n",
    "    else: #if neighbor in the Orderedlist, do not change the seed dictionary\n",
    "        \n",
    "        if neighbor not in seed.keys():\n",
    "            return None #if not in keys, return None and will be pruned later\n",
    "        else:\n",
    "            return (key,seed[key])#update\n",
    "        \n",
    "def update_part_2():\n",
    "    \"\"\"\n",
    "    Function to update (Part II): The recursive update\n",
    "    \n",
    "    \"\"\"\n",
    "    global seed,Orderedlist,Reach_distance \n",
    "    \n",
    "    while (len(seed)>0):\n",
    "        current_point = list(seed)[0]\n",
    "        dis = seed[current_point]\n",
    "        seed.pop(current_point)\n",
    "\n",
    "        if current_point not in Orderedlist:\n",
    "            Orderedlist.append(current_point)\n",
    "            Reach_distance.append(dis)\n",
    "\n",
    "            if core_Points.filter(lambda x: x[0]==current_point).collect() != []:\n",
    "\n",
    "                neighbors = core_Points.lookup(current_point)[0]\n",
    "                \n",
    "                #note that current point should be the reference point\n",
    "                update(neighbors,current_point)\n",
    "\n",
    "def update(neighbors,point):\n",
    "    \"\"\"\n",
    "    The whole update function entry\n",
    "    \n",
    "    neighbors : list of index of point\n",
    "    \n",
    "    point : a index of point\n",
    "    \"\"\"\n",
    "    global seed, Orderedlist\n",
    "    \n",
    "    sc.broadcast(seed)\n",
    "    sc.broadcast(Orderedlist)\n",
    "\n",
    "    seed = sc.parallelize(neighbors,PARTITIONS_1).map(lambda x: update_part_1(x,point))\\\n",
    "                                            .filter(lambda x: x!= None)\\\n",
    "                                            .sortBy(lambda x: x[1])\\\n",
    "                                            .collectAsMap()\n",
    "    \n",
    "    update_part_2()"
   ]
  },
  {
   "cell_type": "code",
   "execution_count": 9,
   "id": "a878569f-bdb5-4e54-bde8-fc77df7f498b",
   "metadata": {},
   "outputs": [],
   "source": [
    "def update_single(neighbors,point):\n",
    "    \"\"\"\n",
    "    update function for single machine only\n",
    "    \"\"\"\n",
    "    global seed, Orderedlist,core_Points\n",
    "    \n",
    "    for neighbor in neighbors:\n",
    "        if neighbor not in Orderedlist:\n",
    "            if neighbor not in seed.keys():\n",
    "                seed[neighbor] = rd_Matrix[point][0][neighbor]\n",
    "            else:\n",
    "                seed[neighbor] = min(rd_Matrix[point][0][neighbor],seed[neighbor])\n",
    "                \n",
    "    seed = dict(sorted(seed.items(), key=lambda x: x[1], reverse=False))\n",
    "    \n",
    "    while(len(seed)>0):\n",
    "        current_point = list(seed)[0]\n",
    "        dis = seed[current_point]\n",
    "        seed.pop(current_point)        \n",
    "        \n",
    "        if current_point not in Orderedlist:\n",
    "            Orderedlist.append(current_point)\n",
    "            Reach_distance.append(dis)\n",
    "            if current_point in core_point:\n",
    "                neighbors=core_Points[current_point]\n",
    "                update_single(neighbors,current_point)"
   ]
  },
  {
   "cell_type": "code",
   "execution_count": 10,
   "id": "95967f08-74e5-4f1e-91c4-3dba872e9aa2",
   "metadata": {},
   "outputs": [],
   "source": [
    "Orderedlist = [] \n",
    "seed = {}\n",
    "Reach_distance = []\n",
    "\n",
    "core_Points = core_Points.collectAsMap()\n",
    "\n",
    "last_point = 0\n",
    "\n",
    "\n",
    "for point in core_point: #here core_point is index of core points:\n",
    "    if point not in Orderedlist:\n",
    "        \n",
    "        # neighbors = core_Points.lookup(point)[0]\n",
    "        neighbors = core_Points[point]\n",
    "        Reach_distance.append(rd_Matrix[point][0][last_point])\n",
    "        Orderedlist.append(point)        \n",
    "        \n",
    "        #update function\n",
    "        update_single(neighbors,point)"
   ]
  },
  {
   "cell_type": "markdown",
   "id": "b42f5e48-1131-4245-afa5-e900133fedd9",
   "metadata": {},
   "source": [
    "### Draw (Only for 2-dimensions visualization)"
   ]
  },
  {
   "cell_type": "code",
   "execution_count": 11,
   "id": "f71bf18d-aa90-4bdc-ae45-56fc8170b4d5",
   "metadata": {},
   "outputs": [],
   "source": [
    "def draw(Eps,MinPts,Orderedlist,Reach_distance,data):\n",
    "    ind = [0]\n",
    "    data_split = []\n",
    "    Noise = []\n",
    "    \n",
    "    for i in range(len(Reach_distance)):\n",
    "        if Reach_distance[i]>Eps:\n",
    "            ind.append(i)\n",
    "            \n",
    "    if ind[-1]!=len(Reach_distance):\n",
    "        ind.append(len(Reach_distance))\n",
    "    \n",
    "    for i in range(len(ind)-1):\n",
    "        if ind[i+1]-ind[i] < MinPts:\n",
    "            Noise.append(ind[i])\n",
    "            ind[i]=ind[i]-1\n",
    "            if ind[i+1] == len(Reach_distance):\n",
    "                Noise.append(ind[i+1])\n",
    "         #   ind.remove(ind[i])\n",
    "    for i in Noise:\n",
    "        if i in ind:\n",
    "            ind.remove(i)\n",
    "    \n",
    "    \n",
    "    for i in range(len(ind)-1):\n",
    "        data_split.append(Orderedlist[ind[i]:ind[i+1]])\n",
    "    \n",
    "    data = pd.DataFrame(data)\n",
    "    data.columns=['x','y']\n",
    "    data['label'] = -1\n",
    "    \n",
    "    for x in range(len(data_split)):\n",
    "        for y in data_split[x]:\n",
    "            data.iloc[y,2]=x\n",
    "            \n",
    "    \n",
    "    for i in Noise:\n",
    "        data.iloc[i-1,2] = x+1\n",
    "        \n",
    "    fig = plt.figure(figsize=(12,8),dpi=200)\n",
    "    plt.scatter(data['x'], data['y'], c=data['label'])\n",
    "    \n",
    "    return data"
   ]
  },
  {
   "cell_type": "code",
   "execution_count": 12,
   "id": "35f4a51e-61ad-4dd9-bc9c-cabe770bc67b",
   "metadata": {},
   "outputs": [],
   "source": [
    "# visualization for testing only.\n",
    "# comment it while runing OPTICS SPARKS\n",
    "# draw(3,5,Orderedlist,Reach_distance,data.collect())"
   ]
  },
  {
   "cell_type": "code",
   "execution_count": null,
   "id": "7624f7eb-a42c-439b-a47c-d229c87b586c",
   "metadata": {},
   "outputs": [],
   "source": []
  }
 ],
 "metadata": {
  "kernelspec": {
   "display_name": "Python 3 (ipykernel)",
   "language": "python",
   "name": "python3"
  },
  "language_info": {
   "codemirror_mode": {
    "name": "ipython",
    "version": 3
   },
   "file_extension": ".py",
   "mimetype": "text/x-python",
   "name": "python",
   "nbconvert_exporter": "python",
   "pygments_lexer": "ipython3",
   "version": "3.8.12"
  }
 },
 "nbformat": 4,
 "nbformat_minor": 5
}
