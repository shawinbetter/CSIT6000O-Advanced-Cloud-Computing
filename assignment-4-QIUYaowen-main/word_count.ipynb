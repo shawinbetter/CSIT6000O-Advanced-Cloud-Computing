{
 "cells": [
  {
   "cell_type": "markdown",
   "metadata": {
    "application/vnd.databricks.v1+cell": {
     "inputWidgets": {},
     "nuid": "e3a10839-96c9-42db-9e60-fdc21a595aa0",
     "showTitle": false,
     "title": ""
    }
   },
   "source": [
    "#![Spark Logo](http://spark-mooc.github.io/web-assets/images/ta_Spark-logo-small.png) + ![Python Logo](http://spark-mooc.github.io/web-assets/images/python-logo-master-v3-TM-flattened_small.png)\n",
    "\n",
    "# **Word Count Lab: Building a Word Count Application**\n",
    "\n",
    "This lab will build on the techniques covered in the Spark tutorial to develop a simple word count application.  The volume of unstructured text in existence is growing dramatically, and Spark is an excellent tool for analyzing this type of data.  In this lab, we will write code that calculates the most common words in the [Complete Works of William Shakespeare](http://www.gutenberg.org/ebooks/100) retrieved from [Project Gutenberg](https://www.gutenberg.org/).  This could also be scaled to find the most common words on the Internet.\n",
    "\n",
    "** During this lab we will cover: **\n",
    "- *Part 1*: Creating RDDs\n",
    "- *Part 2*: Counting with Pair RDDs\n",
    "- *Part 3*: More Transformations\n",
    "- *Part 4*: Applying to a File\n",
    "\n",
    "> Note that, for reference, you can look up the details of the relevant methods in [Spark's Python API](https://spark.apache.org/docs/latest/api/python/reference/index.html)"
   ]
  },
  {
   "cell_type": "markdown",
   "metadata": {
    "application/vnd.databricks.v1+cell": {
     "inputWidgets": {},
     "nuid": "49433986-aa5b-4af1-9fb7-0b5796405549",
     "showTitle": false,
     "title": ""
    }
   },
   "source": [
    "#### ** Part 1: Creating RDDs **\n",
    "\n",
    "In this part of the lab, we will explore creating a base RDD with `parallelize` and using pair RDDs to count words.\n",
    "\n",
    "** (1a) Create a base RDD **\n",
    "\n",
    "We'll start by generating a base RDD by using a Python list and the `sc.parallelize` method.  Then we'll print out the type of the base RDD."
   ]
  },
  {
   "cell_type": "code",
   "execution_count": 1,
   "metadata": {
    "application/vnd.databricks.v1+cell": {
     "inputWidgets": {},
     "nuid": "46c44707-40c3-4609-886b-d7af066b37d9",
     "showTitle": false,
     "title": ""
    },
    "collapsed": false,
    "jupyter": {
     "outputs_hidden": false
    }
   },
   "outputs": [
    {
     "name": "stdout",
     "output_type": "stream",
     "text": [
      "<class 'pyspark.rdd.RDD'>\n"
     ]
    }
   ],
   "source": [
    "wordsList = ['cat', 'elephant', 'rat', 'rat', 'cat']\n",
    "wordsRDD = sc.parallelize(wordsList, numSlices=4)\n",
    "# Print out the type of wordsRDD\n",
    "print(type(wordsRDD))"
   ]
  },
  {
   "cell_type": "markdown",
   "metadata": {
    "application/vnd.databricks.v1+cell": {
     "inputWidgets": {},
     "nuid": "35b725a4-9b31-4980-b5ca-693672d0bd63",
     "showTitle": false,
     "title": ""
    }
   },
   "source": [
    "** (1b) Capitalize and test **\n",
    "\n",
    "Let's use a `map()` transformation to add the letter 's' to each string in the base RDD we just created. We'll define a Python function that returns the word with an 's' at the end of the word.  Please replace `<FILL IN>` with your solution.  If you have trouble, the next cell has the solution.  After you have defined `capitalize` you can run the third cell which contains a test.  If you implementation is correct it will print `1 test passed`.\n",
    "\n",
    "This is the general form that exercises will take, except that no example solution will be provided.  Exercises will include an explanation of what is expected, followed by code cells where one cell will have one or more `<FILL IN>` sections.  The cell that needs to be modified will have `# TODO: Replace <FILL IN> with appropriate code` on its first line.  Once the `<FILL IN>` sections are updated and the code is run, the test cell can then be run to verify the correctness of your solution.  The last code cell before the next markdown section will contain the tests."
   ]
  },
  {
   "cell_type": "code",
   "execution_count": 2,
   "metadata": {
    "application/vnd.databricks.v1+cell": {
     "inputWidgets": {},
     "nuid": "1b0bf938-4fc5-4cec-960a-9ea55250cab8",
     "showTitle": false,
     "title": ""
    },
    "collapsed": false,
    "jupyter": {
     "outputs_hidden": false
    }
   },
   "outputs": [
    {
     "name": "stdout",
     "output_type": "stream",
     "text": [
      "CAT\n"
     ]
    }
   ],
   "source": [
    "# TODO: Replace <FILL IN> with appropriate code\n",
    "def capitalize(word):\n",
    "    \"\"\"Capitalize input word\n",
    "\n",
    "    Args:\n",
    "        word (str): A string.\n",
    "\n",
    "    Returns:\n",
    "        str: A string with all letters capitalized\n",
    "    \"\"\"\n",
    "    return word.upper()\n",
    "\n",
    "print(capitalize('cat'))"
   ]
  },
  {
   "cell_type": "code",
   "execution_count": 3,
   "metadata": {
    "application/vnd.databricks.v1+cell": {
     "inputWidgets": {},
     "nuid": "584ae132-fa75-4d1a-ae07-ad825aba2542",
     "showTitle": false,
     "title": ""
    },
    "collapsed": false,
    "jupyter": {
     "outputs_hidden": false
    }
   },
   "outputs": [
    {
     "name": "stdout",
     "output_type": "stream",
     "text": [
      "CAT\n"
     ]
    }
   ],
   "source": [
    "# One way of completing the function\n",
    "def capitalize(word):\n",
    "    return word.upper()\n",
    "\n",
    "print(capitalize('cat'))"
   ]
  },
  {
   "cell_type": "code",
   "execution_count": 4,
   "metadata": {
    "application/vnd.databricks.v1+cell": {
     "inputWidgets": {},
     "nuid": "de65f6e5-fd35-4e4e-9071-325358fd249d",
     "showTitle": false,
     "title": ""
    },
    "collapsed": false,
    "jupyter": {
     "outputs_hidden": false
    }
   },
   "outputs": [
    {
     "name": "stdout",
     "output_type": "stream",
     "text": [
      "1 test passed.\n"
     ]
    }
   ],
   "source": [
    "# Load in the testing code and check to see if your answer is correct\n",
    "# If incorrect it will report back '1 test failed' for each failed test\n",
    "# Make sure to rerun any cell you change before trying the test again\n",
    "# initialize the Test class\n",
    "import hashlib\n",
    "\n",
    "class TestFailure(Exception):\n",
    "    pass\n",
    "class PrivateTestFailure(Exception):\n",
    "    pass\n",
    "\n",
    "class Test(object):\n",
    "    passed = 0\n",
    "    numTests = 0\n",
    "    failFast = False\n",
    "    private = False\n",
    "\n",
    "    @classmethod\n",
    "    def setFailFast(cls):\n",
    "        cls.failFast = True\n",
    "\n",
    "    @classmethod\n",
    "    def setPrivateMode(cls):\n",
    "        cls.private = True\n",
    "\n",
    "    @classmethod\n",
    "    def assertTrue(cls, result, msg=\"\"):\n",
    "        cls.numTests += 1\n",
    "        if result == True:\n",
    "            cls.passed += 1\n",
    "            print(\"1 test passed.\")\n",
    "        else:\n",
    "            print(\"1 test failed. \" + msg)\n",
    "            if cls.failFast:\n",
    "                if cls.private:\n",
    "                    raise PrivateTestFailure(msg)\n",
    "                else:\n",
    "                    raise TestFailure(msg)\n",
    "\n",
    "    @classmethod\n",
    "    def assertEquals(cls, var, val, msg=\"\"):\n",
    "        cls.assertTrue(var == val, msg)\n",
    "\n",
    "    @classmethod\n",
    "    def assertEqualsHashed(cls, var, hashed_val, msg=\"\"):\n",
    "        cls.assertEquals(cls._hash(var), hashed_val, msg)\n",
    "\n",
    "    @classmethod\n",
    "    def printStats(cls):\n",
    "        print(\"{0} / {1} test(s) passed.\".format(cls.passed, cls.numTests))\n",
    "\n",
    "    @classmethod\n",
    "    def _hash(cls, x):\n",
    "        return hashlib.sha1(str(x).encode('utf-8')).hexdigest()\n",
    "\n",
    "# TEST Pluralize and test (1b)\n",
    "Test.assertEquals(capitalize('rat'), 'RAT', 'incorrect result: capitalize does not work properly')"
   ]
  },
  {
   "cell_type": "markdown",
   "metadata": {
    "application/vnd.databricks.v1+cell": {
     "inputWidgets": {},
     "nuid": "18a782eb-b63d-494d-b3ec-c7d1cf316d82",
     "showTitle": false,
     "title": ""
    }
   },
   "source": [
    "** (1c) Apply `capitalize` to the base RDD **\n",
    "\n",
    "Now pass each item in the base RDD into a [map()](https://spark.apache.org/docs/latest/api/python/reference/api/pyspark.RDD.map.html) transformation that applies the `capitalize()` function to each element. And then call the [collect()](https://spark.apache.org/docs/latest/api/python/reference/api/pyspark.RDD.collect.html) action to see the transformed RDD."
   ]
  },
  {
   "cell_type": "code",
   "execution_count": 5,
   "metadata": {
    "application/vnd.databricks.v1+cell": {
     "inputWidgets": {},
     "nuid": "eb28ff7d-3d5f-4bd4-91e8-23a3bfb6157c",
     "showTitle": false,
     "title": ""
    },
    "collapsed": false,
    "jupyter": {
     "outputs_hidden": false
    }
   },
   "outputs": [
    {
     "name": "stderr",
     "output_type": "stream",
     "text": [
      "[Stage 0:>                                                          (0 + 4) / 4]\r"
     ]
    },
    {
     "name": "stdout",
     "output_type": "stream",
     "text": [
      "['CAT', 'ELEPHANT', 'RAT', 'RAT', 'CAT']\n"
     ]
    },
    {
     "name": "stderr",
     "output_type": "stream",
     "text": [
      "                                                                                \r"
     ]
    }
   ],
   "source": [
    "# TODO: Replace <FILL IN> with appropriate code\n",
    "capitalRDD = wordsRDD.map(capitalize)\n",
    "print(capitalRDD.collect())"
   ]
  },
  {
   "cell_type": "code",
   "execution_count": 6,
   "metadata": {
    "application/vnd.databricks.v1+cell": {
     "inputWidgets": {},
     "nuid": "b0f071fc-f417-45b4-ac34-315ef8f3cc55",
     "showTitle": false,
     "title": ""
    },
    "collapsed": false,
    "jupyter": {
     "outputs_hidden": false
    }
   },
   "outputs": [
    {
     "name": "stdout",
     "output_type": "stream",
     "text": [
      "1 test passed.\n"
     ]
    }
   ],
   "source": [
    "# TEST Apply capitalize to the base RDD(1c)\n",
    "Test.assertEquals(capitalRDD.collect(), ['CAT', 'ELEPHANT', 'RAT', 'RAT', 'CAT'],\n",
    "                  'incorrect values for capitalRDD')"
   ]
  },
  {
   "cell_type": "markdown",
   "metadata": {
    "application/vnd.databricks.v1+cell": {
     "inputWidgets": {},
     "nuid": "f5e1d19a-9165-4511-ac55-8e23f1891ccc",
     "showTitle": false,
     "title": ""
    }
   },
   "source": [
    "** (1d) Pass a `lambda` function to `map` **\n",
    "\n",
    "Let's create the same RDD using a `lambda` function."
   ]
  },
  {
   "cell_type": "code",
   "execution_count": 7,
   "metadata": {
    "application/vnd.databricks.v1+cell": {
     "inputWidgets": {},
     "nuid": "193caa48-3985-4798-9a2e-3f99a0937386",
     "showTitle": false,
     "title": ""
    },
    "collapsed": false,
    "jupyter": {
     "outputs_hidden": false
    }
   },
   "outputs": [
    {
     "name": "stdout",
     "output_type": "stream",
     "text": [
      "['CAT', 'ELEPHANT', 'RAT', 'RAT', 'CAT']\n"
     ]
    }
   ],
   "source": [
    "# TODO: Replace <FILL IN> with appropriate code\n",
    "capitalLambdaRDD = wordsRDD.map(lambda x : x.upper())\n",
    "print(capitalLambdaRDD.collect())"
   ]
  },
  {
   "cell_type": "code",
   "execution_count": 8,
   "metadata": {
    "application/vnd.databricks.v1+cell": {
     "inputWidgets": {},
     "nuid": "309cc9a9-2825-4696-ae4b-bdc6a8476caa",
     "showTitle": false,
     "title": ""
    },
    "collapsed": false,
    "jupyter": {
     "outputs_hidden": false
    }
   },
   "outputs": [
    {
     "name": "stdout",
     "output_type": "stream",
     "text": [
      "1 test passed.\n"
     ]
    }
   ],
   "source": [
    "# TEST Pass a lambda function to map (1d)\n",
    "Test.assertEquals(capitalLambdaRDD.collect(), ['CAT', 'ELEPHANT', 'RAT', 'RAT', 'CAT'],\n",
    "                  'incorrect values for capitalLambdaRDD (1d)')"
   ]
  },
  {
   "cell_type": "markdown",
   "metadata": {
    "application/vnd.databricks.v1+cell": {
     "inputWidgets": {},
     "nuid": "fc555ccc-95c6-4815-b95d-b83269113019",
     "showTitle": false,
     "title": ""
    }
   },
   "source": [
    "** (1e) Length of each word **\n",
    "\n",
    "Now use `map()` and a `lambda` function to return the number of characters in each word.  We'll `collect` this result directly into a variable."
   ]
  },
  {
   "cell_type": "code",
   "execution_count": 9,
   "metadata": {
    "application/vnd.databricks.v1+cell": {
     "inputWidgets": {},
     "nuid": "d0ce0b44-e7f0-4b79-a47b-deda5400cce4",
     "showTitle": false,
     "title": ""
    },
    "collapsed": false,
    "jupyter": {
     "outputs_hidden": false
    }
   },
   "outputs": [
    {
     "name": "stdout",
     "output_type": "stream",
     "text": [
      "[3, 8, 3, 3, 3]\n"
     ]
    }
   ],
   "source": [
    "# TODO: Replace <FILL IN> with appropriate code\n",
    "capitalLengths = (capitalRDD\n",
    "                  .map(lambda x:len(x))\\\n",
    "                  .collect())\n",
    "print(capitalLengths)"
   ]
  },
  {
   "cell_type": "code",
   "execution_count": 10,
   "metadata": {
    "application/vnd.databricks.v1+cell": {
     "inputWidgets": {},
     "nuid": "77a09230-5f07-4104-ac48-e772f4aae5ee",
     "showTitle": false,
     "title": ""
    },
    "collapsed": false,
    "jupyter": {
     "outputs_hidden": false
    }
   },
   "outputs": [
    {
     "name": "stdout",
     "output_type": "stream",
     "text": [
      "1 test passed.\n"
     ]
    }
   ],
   "source": [
    "# TEST Length of each word (1e)\n",
    "Test.assertEquals(capitalLengths, [3, 8, 3, 3, 3],\n",
    "                  'incorrect values for pluralLengths')"
   ]
  },
  {
   "cell_type": "markdown",
   "metadata": {
    "application/vnd.databricks.v1+cell": {
     "inputWidgets": {},
     "nuid": "4de2925e-d18e-4f8c-a2a9-63fac44838b6",
     "showTitle": false,
     "title": ""
    }
   },
   "source": [
    "** (1f) Pair RDDs **\n",
    "\n",
    "The next step in writing our word counting program is to create a new type of RDD, called a pair RDD. A pair RDD is an RDD where each element is a pair tuple `(k, v)` where `k` is the key and `v` is the value. In this example, we will create a pair consisting of `('<word>', 1)` for each word element in the RDD.\n",
    "\n",
    "We can create the pair RDD using the `map()` transformation with a `lambda()` function to create a new RDD."
   ]
  },
  {
   "cell_type": "code",
   "execution_count": 11,
   "metadata": {
    "application/vnd.databricks.v1+cell": {
     "inputWidgets": {},
     "nuid": "b01f4f1a-49a2-4d69-9fff-87d749ab9cf9",
     "showTitle": false,
     "title": ""
    },
    "collapsed": false,
    "jupyter": {
     "outputs_hidden": false
    }
   },
   "outputs": [
    {
     "name": "stdout",
     "output_type": "stream",
     "text": [
      "[('cat', 1), ('elephant', 1), ('rat', 1), ('rat', 1), ('cat', 1)]\n"
     ]
    }
   ],
   "source": [
    "# TODO: Replace <FILL IN> with appropriate code\n",
    "wordPairs = wordsRDD.map(lambda x: (x,1))\n",
    "print(wordPairs.collect())"
   ]
  },
  {
   "cell_type": "code",
   "execution_count": 12,
   "metadata": {
    "application/vnd.databricks.v1+cell": {
     "inputWidgets": {},
     "nuid": "4061802e-d76d-48a6-b9fc-a0976389472d",
     "showTitle": false,
     "title": ""
    },
    "collapsed": false,
    "jupyter": {
     "outputs_hidden": false
    }
   },
   "outputs": [
    {
     "name": "stdout",
     "output_type": "stream",
     "text": [
      "1 test passed.\n"
     ]
    }
   ],
   "source": [
    "# TEST Pair RDDs (1f)\n",
    "Test.assertEquals(wordPairs.collect(),\n",
    "                  [('cat', 1), ('elephant', 1), ('rat', 1), ('rat', 1), ('cat', 1)],\n",
    "                  'incorrect value for wordPairs')"
   ]
  },
  {
   "cell_type": "markdown",
   "metadata": {
    "application/vnd.databricks.v1+cell": {
     "inputWidgets": {},
     "nuid": "d5c640e6-590d-4043-a618-7fd0a6d215a2",
     "showTitle": false,
     "title": ""
    }
   },
   "source": [
    "#### ** Part 2: Counting with Pair RDDs **\n",
    "\n",
    "Now, let's count the number of times a particular word appears in the RDD. There are multiple ways to perform the counting, but some are much less efficient than others.\n",
    "\n",
    "A naive approach would be to `collect()` all of the elements and count them in the driver program. While this approach could work for small datasets, we want an approach that will work for any size dataset including terabyte- or petabyte-sized datasets. In addition, performing all of the work in the driver program is slower than performing it in parallel in the workers. For these reasons, we will use data parallel operations.\n",
    "\n",
    "** (2a) `groupByKey()` approach **\n",
    "\n",
    "An approach you might first consider (we'll see shortly that there are better ways) is based on using the [groupByKey()](https://spark.apache.org/docs/latest/api/python/reference/api/pyspark.RDD.groupByKey.html) transformation. As the name implies, the `groupByKey()` transformation groups all the elements of the RDD with the same key into a single list in one of the partitions. There are two problems with using `groupByKey()`:\n",
    "  + The operation requires a lot of data movement to move all the values into the appropriate partitions.\n",
    "  + The lists can be very large. Consider a word count of English Wikipedia: the lists for common words (e.g., the, a, etc.) would be huge and could exhaust the available memory in a worker.\n",
    " \n",
    "Use `groupByKey()` to generate a pair RDD of type `('word', iterator)`."
   ]
  },
  {
   "cell_type": "code",
   "execution_count": 13,
   "metadata": {
    "application/vnd.databricks.v1+cell": {
     "inputWidgets": {},
     "nuid": "b34f6abf-25b0-4438-a51f-b94447320601",
     "showTitle": false,
     "title": ""
    },
    "collapsed": false,
    "jupyter": {
     "outputs_hidden": false
    }
   },
   "outputs": [
    {
     "name": "stderr",
     "output_type": "stream",
     "text": [
      "[Stage 7:>                                                          (0 + 4) / 4]\r"
     ]
    },
    {
     "name": "stdout",
     "output_type": "stream",
     "text": [
      "cat: [1, 1]\n",
      "elephant: [1]\n",
      "rat: [1, 1]\n"
     ]
    },
    {
     "name": "stderr",
     "output_type": "stream",
     "text": [
      "                                                                                \r"
     ]
    }
   ],
   "source": [
    "# TODO: Replace <FILL IN> with appropriate code\n",
    "# Note that groupByKey requires no parameters\n",
    "wordsGrouped = wordPairs.groupByKey()\n",
    "for key, value in wordsGrouped.collect():\n",
    "    print('{0}: {1}'.format(key, list(value)))"
   ]
  },
  {
   "cell_type": "code",
   "execution_count": 14,
   "metadata": {
    "application/vnd.databricks.v1+cell": {
     "inputWidgets": {},
     "nuid": "03e60e47-53c1-47da-b7dc-fadb90be476f",
     "showTitle": false,
     "title": ""
    },
    "collapsed": false,
    "jupyter": {
     "outputs_hidden": false
    }
   },
   "outputs": [
    {
     "name": "stdout",
     "output_type": "stream",
     "text": [
      "1 test passed.\n"
     ]
    }
   ],
   "source": [
    "# TEST groupByKey() approach (2a)\n",
    "Test.assertEquals(sorted(wordsGrouped.mapValues(lambda x: list(x)).collect()),\n",
    "                  [('cat', [1, 1]), ('elephant', [1]), ('rat', [1, 1])],\n",
    "                  'incorrect value for wordsGrouped')"
   ]
  },
  {
   "cell_type": "markdown",
   "metadata": {
    "application/vnd.databricks.v1+cell": {
     "inputWidgets": {},
     "nuid": "9b04b889-cdf9-4640-91a2-c8173ff4538c",
     "showTitle": false,
     "title": ""
    }
   },
   "source": [
    "** (2b) Use `groupByKey()` to obtain the counts **\n",
    "\n",
    "Using the `groupByKey()` transformation creates an RDD containing 3 elements, each of which is a pair of a word and a Python iterator.\n",
    "\n",
    "Now sum the iterator using a `map()` transformation.  The result should be a pair RDD consisting of (word, count) pairs."
   ]
  },
  {
   "cell_type": "code",
   "execution_count": 15,
   "metadata": {
    "application/vnd.databricks.v1+cell": {
     "inputWidgets": {},
     "nuid": "e6ad94c1-f76c-4c3f-bd7a-06c6ba8f8d1a",
     "showTitle": false,
     "title": ""
    },
    "collapsed": false,
    "jupyter": {
     "outputs_hidden": false
    }
   },
   "outputs": [
    {
     "name": "stdout",
     "output_type": "stream",
     "text": [
      "[('cat', 2), ('elephant', 1), ('rat', 2)]\n"
     ]
    }
   ],
   "source": [
    "# TODO: Replace <FILL IN> with appropriate code\n",
    "wordCountsGrouped = wordsGrouped.map(lambda x: (x[0], sum(x[1])))\n",
    "print(wordCountsGrouped.collect())"
   ]
  },
  {
   "cell_type": "code",
   "execution_count": 16,
   "metadata": {
    "application/vnd.databricks.v1+cell": {
     "inputWidgets": {},
     "nuid": "29ef23e1-883a-4f0f-826e-028d882bd5a2",
     "showTitle": false,
     "title": ""
    },
    "collapsed": false,
    "jupyter": {
     "outputs_hidden": false
    }
   },
   "outputs": [
    {
     "name": "stdout",
     "output_type": "stream",
     "text": [
      "1 test passed.\n"
     ]
    }
   ],
   "source": [
    "# TEST Use groupByKey() to obtain the counts (2b)\n",
    "Test.assertEquals(sorted(wordCountsGrouped.collect()),\n",
    "                  [('cat', 2), ('elephant', 1), ('rat', 2)],\n",
    "                  'incorrect value for wordCountsGrouped')"
   ]
  },
  {
   "cell_type": "markdown",
   "metadata": {
    "application/vnd.databricks.v1+cell": {
     "inputWidgets": {},
     "nuid": "890b234a-1352-4871-821c-fd3fc43b7c5a",
     "showTitle": false,
     "title": ""
    }
   },
   "source": [
    "** (2c) Count using `reduceByKey` **\n",
    "\n",
    "A better approach is to start from the pair RDD and then use the [reduceByKey()](https://spark.apache.org/docs/latest/api/python/reference/api/pyspark.RDD.reduceByKey.html) transformation to create a new pair RDD. The `reduceByKey()` transformation gathers together pairs that have the same key and applies the function provided to two values at a time, iteratively reducing all of the values to a single value. `reduceByKey()` operates by applying the function first within each partition on a per-key basis and then across the partitions, allowing it to scale efficiently to large datasets."
   ]
  },
  {
   "cell_type": "code",
   "execution_count": 17,
   "metadata": {
    "application/vnd.databricks.v1+cell": {
     "inputWidgets": {},
     "nuid": "b1bd1bda-d7d3-4e1f-aade-57dcbea721b8",
     "showTitle": false,
     "title": ""
    },
    "collapsed": false,
    "jupyter": {
     "outputs_hidden": false
    }
   },
   "outputs": [
    {
     "name": "stdout",
     "output_type": "stream",
     "text": [
      "[('cat', 2), ('elephant', 1), ('rat', 2)]\n"
     ]
    }
   ],
   "source": [
    "# TODO: Replace <FILL IN> with appropriate code\n",
    "# Note that reduceByKey takes in a function that accepts two values and returns a single value\n",
    "wordCounts = wordPairs.reduceByKey(lambda x,y : x+y)\n",
    "print(wordCounts.collect())"
   ]
  },
  {
   "cell_type": "code",
   "execution_count": 18,
   "metadata": {
    "application/vnd.databricks.v1+cell": {
     "inputWidgets": {},
     "nuid": "c697c6b7-d79c-4984-9395-d8541bb7ce9f",
     "showTitle": false,
     "title": ""
    },
    "collapsed": false,
    "jupyter": {
     "outputs_hidden": false
    }
   },
   "outputs": [
    {
     "name": "stdout",
     "output_type": "stream",
     "text": [
      "1 test passed.\n"
     ]
    }
   ],
   "source": [
    "# TEST Counting using reduceByKey (2c)\n",
    "Test.assertEquals(sorted(wordCounts.collect()), [('cat', 2), ('elephant', 1), ('rat', 2)],\n",
    "                  'incorrect value for wordCounts')"
   ]
  },
  {
   "cell_type": "markdown",
   "metadata": {
    "application/vnd.databricks.v1+cell": {
     "inputWidgets": {},
     "nuid": "97217bbb-9ece-4927-beca-79b2d108b2bc",
     "showTitle": false,
     "title": ""
    }
   },
   "source": [
    "** (2d) All together **\n",
    "\n",
    "The expert version of the code performs the `map()` to pair RDD, `reduceByKey()` transformation, and `collect` in one statement."
   ]
  },
  {
   "cell_type": "code",
   "execution_count": 19,
   "metadata": {
    "application/vnd.databricks.v1+cell": {
     "inputWidgets": {},
     "nuid": "2c91e68e-4dfb-4013-ac05-7242085401aa",
     "showTitle": false,
     "title": ""
    },
    "collapsed": false,
    "jupyter": {
     "outputs_hidden": false
    }
   },
   "outputs": [
    {
     "name": "stdout",
     "output_type": "stream",
     "text": [
      "[('cat', 2), ('elephant', 1), ('rat', 2)]\n"
     ]
    }
   ],
   "source": [
    "# TODO: Replace <FILL IN> with appropriate code\n",
    "wordCountsCollected = (wordsRDD\n",
    "                       .map(lambda x: (x,1))\\\n",
    "                       .reduceByKey(lambda x,y : x+y)\\\n",
    "                       .collect())\n",
    "print(wordCountsCollected)"
   ]
  },
  {
   "cell_type": "code",
   "execution_count": 20,
   "metadata": {
    "application/vnd.databricks.v1+cell": {
     "inputWidgets": {},
     "nuid": "eb8fb112-7bc6-4f14-8b40-6a23c8ee7976",
     "showTitle": false,
     "title": ""
    },
    "collapsed": false,
    "jupyter": {
     "outputs_hidden": false
    }
   },
   "outputs": [
    {
     "name": "stdout",
     "output_type": "stream",
     "text": [
      "1 test passed.\n"
     ]
    }
   ],
   "source": [
    "# TEST All together (2d)\n",
    "Test.assertEquals(sorted(wordCountsCollected), [('cat', 2), ('elephant', 1), ('rat', 2)],\n",
    "                  'incorrect value for wordCountsCollected')"
   ]
  },
  {
   "cell_type": "markdown",
   "metadata": {
    "application/vnd.databricks.v1+cell": {
     "inputWidgets": {},
     "nuid": "1aa25447-5540-4bfe-8ac9-430c1c7fe0ec",
     "showTitle": false,
     "title": ""
    }
   },
   "source": [
    "#### ** Part 3: More Transformations **\n",
    "\n",
    "** (3a) Unique words **\n",
    "\n",
    "Calculate the number of unique words in `wordsRDD`.  You can use other RDDs that you have already created to make this easier."
   ]
  },
  {
   "cell_type": "code",
   "execution_count": 21,
   "metadata": {
    "application/vnd.databricks.v1+cell": {
     "inputWidgets": {},
     "nuid": "02a9ad6c-468f-4403-ba16-985509f38d5f",
     "showTitle": false,
     "title": ""
    },
    "collapsed": false,
    "jupyter": {
     "outputs_hidden": false
    }
   },
   "outputs": [
    {
     "name": "stdout",
     "output_type": "stream",
     "text": [
      "3\n"
     ]
    }
   ],
   "source": [
    "# TODO: Replace <FILL IN> with appropriate code\n",
    "uniqueWords = wordCounts.map(lambda x: x[0]).count()\n",
    "print(uniqueWords)"
   ]
  },
  {
   "cell_type": "code",
   "execution_count": 22,
   "metadata": {
    "application/vnd.databricks.v1+cell": {
     "inputWidgets": {},
     "nuid": "4b519a4f-e554-46a6-91a5-f2512c7fea6a",
     "showTitle": false,
     "title": ""
    },
    "collapsed": false,
    "jupyter": {
     "outputs_hidden": false
    }
   },
   "outputs": [
    {
     "name": "stdout",
     "output_type": "stream",
     "text": [
      "1 test passed.\n"
     ]
    }
   ],
   "source": [
    "# TEST Unique words (3a)\n",
    "Test.assertEquals(uniqueWords, 3, 'incorrect count of uniqueWords')"
   ]
  },
  {
   "cell_type": "markdown",
   "metadata": {
    "application/vnd.databricks.v1+cell": {
     "inputWidgets": {},
     "nuid": "ac5403e0-1a34-47c4-81bb-3611df8250d7",
     "showTitle": false,
     "title": ""
    }
   },
   "source": [
    "** (3b) Calculate mean using `reduce` **\n",
    "\n",
    "Find the mean number of words per unique word in `wordCounts`.\n",
    "\n",
    "Use a `reduce()` action to sum the counts in `wordCounts` and then divide by the number of unique words.  First `map()` the pair RDD `wordCounts`, which consists of (key, value) pairs, to an RDD of values."
   ]
  },
  {
   "cell_type": "code",
   "execution_count": 23,
   "metadata": {},
   "outputs": [
    {
     "data": {
      "text/plain": [
       "[('cat', 2), ('elephant', 1), ('rat', 2)]"
      ]
     },
     "execution_count": 23,
     "metadata": {},
     "output_type": "execute_result"
    }
   ],
   "source": [
    "wordCounts.collect()"
   ]
  },
  {
   "cell_type": "code",
   "execution_count": 24,
   "metadata": {
    "application/vnd.databricks.v1+cell": {
     "inputWidgets": {},
     "nuid": "5adb0182-70d6-40f3-980b-9860b9815f23",
     "showTitle": false,
     "title": ""
    },
    "collapsed": false,
    "jupyter": {
     "outputs_hidden": false
    }
   },
   "outputs": [
    {
     "name": "stdout",
     "output_type": "stream",
     "text": [
      "5\n",
      "1.67\n"
     ]
    }
   ],
   "source": [
    "# TODO: Replace <FILL IN> with appropriate code\n",
    "from operator import add\n",
    "totalCount = (wordCounts\n",
    "              .map(lambda x:x[1])\\\n",
    "              .reduce(lambda x,y: x+y))\n",
    "average = totalCount / float(wordCounts.count())\n",
    "print(totalCount)\n",
    "print(round(average, 2))"
   ]
  },
  {
   "cell_type": "code",
   "execution_count": 25,
   "metadata": {
    "application/vnd.databricks.v1+cell": {
     "inputWidgets": {},
     "nuid": "e1433fb1-f834-42be-aa34-f16e78fa3c5a",
     "showTitle": false,
     "title": ""
    },
    "collapsed": false,
    "jupyter": {
     "outputs_hidden": false
    }
   },
   "outputs": [
    {
     "name": "stdout",
     "output_type": "stream",
     "text": [
      "1 test passed.\n"
     ]
    }
   ],
   "source": [
    "# TEST Mean using reduce (3b)\n",
    "Test.assertEquals(round(average, 2), 1.67, 'incorrect value of average')"
   ]
  },
  {
   "cell_type": "markdown",
   "metadata": {
    "application/vnd.databricks.v1+cell": {
     "inputWidgets": {},
     "nuid": "025231bd-70a8-4e3b-9af2-4244117313f7",
     "showTitle": false,
     "title": ""
    }
   },
   "source": [
    "#### ** Part 4: Applying to a File **\n",
    "\n",
    "In this section we will finish developing our word count application.  We'll have to build the `wordCount` function, deal with real world problems like capitalization and punctuation, load in our data source, and compute the word count on the new data.\n",
    "\n",
    "** (4a) `wordCount` function **\n",
    "\n",
    "First, define a function for word counting.  You should reuse the techniques that have been covered in earlier parts of this lab.  This function should take in an RDD that is a list of words like `wordsRDD` and return a pair RDD that has all of the words and their associated counts."
   ]
  },
  {
   "cell_type": "code",
   "execution_count": 26,
   "metadata": {
    "application/vnd.databricks.v1+cell": {
     "inputWidgets": {},
     "nuid": "94c113e4-15b4-47a3-9f38-009055856702",
     "showTitle": false,
     "title": ""
    },
    "collapsed": false,
    "jupyter": {
     "outputs_hidden": false
    }
   },
   "outputs": [
    {
     "name": "stdout",
     "output_type": "stream",
     "text": [
      "[('cat', 2), ('elephant', 1), ('rat', 2)]\n"
     ]
    }
   ],
   "source": [
    "# TODO: Replace <FILL IN> with appropriate code\n",
    "def wordCount(wordListRDD):\n",
    "    \"\"\"Creates a pair RDD with word counts from an RDD of words.\n",
    "\n",
    "    Args:\n",
    "        wordListRDD (RDD of str): An RDD consisting of words.\n",
    "\n",
    "    Returns:\n",
    "        RDD of (str, int): An RDD consisting of (word, count) tuples.\n",
    "    \"\"\"\n",
    "    return wordListRDD.map(lambda x: (x,1))\\\n",
    "                    .reduceByKey(lambda x,y : x+y)\n",
    "\n",
    "print(wordCount(wordsRDD).collect())"
   ]
  },
  {
   "cell_type": "code",
   "execution_count": 27,
   "metadata": {
    "application/vnd.databricks.v1+cell": {
     "inputWidgets": {},
     "nuid": "359704c9-5a78-4742-8510-3a655d43d1ad",
     "showTitle": false,
     "title": ""
    },
    "collapsed": false,
    "jupyter": {
     "outputs_hidden": false
    }
   },
   "outputs": [
    {
     "name": "stdout",
     "output_type": "stream",
     "text": [
      "1 test passed.\n"
     ]
    }
   ],
   "source": [
    "# TEST wordCount function (4a)\n",
    "Test.assertEquals(sorted(wordCount(wordsRDD).collect()),\n",
    "                  [('cat', 2), ('elephant', 1), ('rat', 2)],\n",
    "                  'incorrect definition for wordCount function')"
   ]
  },
  {
   "cell_type": "markdown",
   "metadata": {
    "application/vnd.databricks.v1+cell": {
     "inputWidgets": {},
     "nuid": "38680205-1c5a-4a69-b45b-34c348f8deff",
     "showTitle": false,
     "title": ""
    }
   },
   "source": [
    "** (4b) Capitalization and punctuation **\n",
    "\n",
    "Real world files are more complicated than the data we have been using in this lab. Some of the issues we have to address are:\n",
    "  + Words should be counted independent of their capitialization (e.g., Spark and spark should be counted as the same word).\n",
    "  + All punctuation should be removed.\n",
    "  + Any leading or trailing spaces on a line should be removed.\n",
    " \n",
    "Define the function `removePunctuation` that converts all text to lower case, removes any punctuation, and removes leading and trailing spaces.  Use the Python [re](https://docs.python.org/2/library/re.html) module to remove any text that is not a letter, number, or space. Reading `help(re.sub)` might be useful."
   ]
  },
  {
   "cell_type": "code",
   "execution_count": 28,
   "metadata": {
    "application/vnd.databricks.v1+cell": {
     "inputWidgets": {},
     "nuid": "6767d693-d0be-431f-b6e4-a8f07b4027c2",
     "showTitle": false,
     "title": ""
    },
    "collapsed": false,
    "jupyter": {
     "outputs_hidden": false
    }
   },
   "outputs": [
    {
     "name": "stdout",
     "output_type": "stream",
     "text": [
      "hi you\n",
      "no underscore\n"
     ]
    }
   ],
   "source": [
    "# TODO: Replace <FILL IN> with appropriate code\n",
    "import re\n",
    "def removePunctuation(text):\n",
    "    \"\"\"Removes punctuation, changes to lower case, and strips leading and trailing spaces.\n",
    "\n",
    "    Note:\n",
    "        Only spaces, letters, and numbers should be retained.  Other characters should should be\n",
    "        eliminated (e.g. it's becomes its).  Leading and trailing spaces should be removed after\n",
    "        punctuation is removed.\n",
    "\n",
    "    Args:\n",
    "        text (str): A string.\n",
    "\n",
    "    Returns:\n",
    "        str: The cleaned up string.\n",
    "    \"\"\"\n",
    "    \n",
    "    return re.sub(r'[^a-z0-9\\s]','',string = text.lower().strip())\n",
    "    \n",
    "print(removePunctuation('Hi, you!'))\n",
    "print(removePunctuation(' No under_score!'))"
   ]
  },
  {
   "cell_type": "code",
   "execution_count": 29,
   "metadata": {
    "application/vnd.databricks.v1+cell": {
     "inputWidgets": {},
     "nuid": "02c9e553-2cd0-41d6-a56d-496ee9ee6d75",
     "showTitle": false,
     "title": ""
    },
    "collapsed": false,
    "jupyter": {
     "outputs_hidden": false
    }
   },
   "outputs": [
    {
     "name": "stdout",
     "output_type": "stream",
     "text": [
      "1 test passed.\n"
     ]
    }
   ],
   "source": [
    "# TEST Capitalization and punctuation (4b)\n",
    "Test.assertEquals(removePunctuation(\" The Elephant's 4 cats. \"),\n",
    "                  'the elephants 4 cats',\n",
    "                  'incorrect definition for removePunctuation function')"
   ]
  },
  {
   "cell_type": "markdown",
   "metadata": {
    "application/vnd.databricks.v1+cell": {
     "inputWidgets": {},
     "nuid": "3fb0350a-d2d9-4cc8-8dfe-ba4d4cdc4fb7",
     "showTitle": false,
     "title": ""
    }
   },
   "source": [
    "** (4c) Load a text file **\n",
    "\n",
    "For the next part of this lab, we will use the [Complete Works of William Shakespeare](http://www.gutenberg.org/ebooks/100) from [Project Gutenberg](http://www.gutenberg.org). To convert a text file into an RDD, we use the `SparkContext.textFile()` method. We also apply the recently defined `removePunctuation()` function using a `map()` transformation to strip out the punctuation and change all text to lowercase.  Since the file is large we use `take(15)`, so that we only print 15 lines.\n",
    "\n",
    "**WARNING**: If you haven't uploaded the text file as instructed in the warmup notebook, please upload it before running the cell below."
   ]
  },
  {
   "cell_type": "code",
   "execution_count": 30,
   "metadata": {
    "application/vnd.databricks.v1+cell": {
     "inputWidgets": {},
     "nuid": "c77bbe85-03a0-46b3-b739-e6d745786d35",
     "showTitle": false,
     "title": ""
    },
    "collapsed": false,
    "jupyter": {
     "outputs_hidden": false
    }
   },
   "outputs": [
    {
     "name": "stdout",
     "output_type": "stream",
     "text": [
      "0: \n",
      "1: project gutenbergs the complete works of william shakespeare by william\n",
      "2: shakespeare\n",
      "3: \n",
      "4: this ebook is for the use of anyone anywhere in the united states and\n",
      "5: most other parts of the world at no cost and with almost no restrictions\n",
      "6: whatsoever  you may copy it give it away or reuse it under the terms\n",
      "7: of the project gutenberg license included with this ebook or online at\n",
      "8: wwwgutenbergorg  if you are not located in the united states youll\n",
      "9: have to check the laws of the country where you are located before using\n",
      "10: this ebook\n",
      "11: \n",
      "12: see at the end of this file  content note added in 2017 \n",
      "13: \n",
      "14: \n"
     ]
    }
   ],
   "source": [
    "# Just run this code\n",
    "import os.path\n",
    "filePath = 'dbfs:/FileStore/tables/shakespere.txt'\n",
    "# filePath = 'shakespere.txt'\n",
    "\n",
    "shakespeareRDD = (sc\n",
    "                  .textFile(filePath, 8)\n",
    "                  .map(removePunctuation))\n",
    "print('\\n'.join(shakespeareRDD\n",
    "                .zipWithIndex() # to (line, lineNum)\n",
    "                .map(lambda s: '{0}: {1}'.format(s[1], s[0])) # to 'lineNum: line'\n",
    "                .take(15)))"
   ]
  },
  {
   "cell_type": "markdown",
   "metadata": {
    "application/vnd.databricks.v1+cell": {
     "inputWidgets": {},
     "nuid": "2c87bbcf-9295-4415-b615-b1b0b0df530a",
     "showTitle": false,
     "title": ""
    }
   },
   "source": [
    "** (4d) Words from lines **\n",
    "\n",
    "Before we can use the `wordcount()` function, we have to split each line by its spaces. Apply a transformation that will split each element of the RDD by its spaces. For each element of the RDD, you should apply Python's string [split()](https://docs.python.org/3/library/string.html#string.split) function. You might think that a `map()` transformation is the way to do this, but think about what the result of the `split()` function will be."
   ]
  },
  {
   "cell_type": "code",
   "execution_count": 31,
   "metadata": {
    "application/vnd.databricks.v1+cell": {
     "inputWidgets": {},
     "nuid": "451c637e-0001-4f46-835b-a22503a26cb6",
     "showTitle": false,
     "title": ""
    },
    "collapsed": false,
    "jupyter": {
     "outputs_hidden": false
    }
   },
   "outputs": [
    {
     "name": "stdout",
     "output_type": "stream",
     "text": [
      "['zwounds', 'zwounds', 'zwounds', 'zwounds', 'zwounds']\n",
      "959524\n"
     ]
    }
   ],
   "source": [
    "# TODO: Replace <FILL IN> with appropriate code\n",
    "shakespeareWordsRDD = shakespeareRDD.flatMap(lambda x: [i for i in x.split()])\n",
    "shakespeareWordCount = shakespeareWordsRDD.count()\n",
    "print(shakespeareWordsRDD.top(5))\n",
    "print(shakespeareWordCount)"
   ]
  },
  {
   "cell_type": "code",
   "execution_count": 32,
   "metadata": {
    "application/vnd.databricks.v1+cell": {
     "inputWidgets": {},
     "nuid": "cf03616d-f49a-443d-8c22-ab7608d44ac0",
     "showTitle": false,
     "title": ""
    },
    "collapsed": false,
    "jupyter": {
     "outputs_hidden": false
    }
   },
   "outputs": [
    {
     "name": "stdout",
     "output_type": "stream",
     "text": [
      "1 test passed.\n",
      "1 test passed.\n"
     ]
    }
   ],
   "source": [
    "# TEST Words from lines (4d)\n",
    "Test.assertTrue(shakespeareWordCount == 959524,\n",
    "                'incorrect value for shakespeareWordCount')\n",
    "Test.assertEquals(shakespeareWordsRDD.top(5),\n",
    "                  [u'zwounds', u'zwounds', u'zwounds', u'zwounds', u'zwounds'],\n",
    "                  'incorrect value for shakespeareWordsRDD')\n"
   ]
  },
  {
   "cell_type": "markdown",
   "metadata": {
    "application/vnd.databricks.v1+cell": {
     "inputWidgets": {},
     "nuid": "6404c70f-232b-4600-80b7-c4a12cf2ffd5",
     "showTitle": false,
     "title": ""
    }
   },
   "source": [
    "** (4e) Count the words **\n",
    "\n",
    "We now have an RDD that is only words.  Next, let's apply the `wordCount()` function to produce a list of word counts. We can view the top 10 words by using the `takeOrdered()` action; however, since the elements of the RDD are pairs, we need a custom sort function that sorts using the value part of the pair.\n",
    "\n",
    "You'll notice that many of the words are common English words. These are called stopwords. In a later lab, we will see how to eliminate them from the results.\n",
    "\n",
    "Use the `wordCount()` function and `takeOrdered()` to obtain the fifteen most common words and their counts."
   ]
  },
  {
   "cell_type": "code",
   "execution_count": 33,
   "metadata": {
    "application/vnd.databricks.v1+cell": {
     "inputWidgets": {},
     "nuid": "517f0a99-044e-4217-b58d-8f22403e7bc1",
     "showTitle": false,
     "title": ""
    },
    "collapsed": false,
    "jupyter": {
     "outputs_hidden": false
    }
   },
   "outputs": [
    {
     "name": "stdout",
     "output_type": "stream",
     "text": [
      "the: 30018\n",
      "and: 28358\n",
      "i: 21868\n",
      "to: 20890\n",
      "of: 18815\n",
      "a: 16000\n",
      "you: 14438\n",
      "my: 13191\n",
      "in: 12034\n",
      "that: 11781\n"
     ]
    }
   ],
   "source": [
    "# TODO: Replace <FILL IN> with appropriate code\n",
    "top10WordsAndCounts = wordCount(shakespeareWordsRDD).takeOrdered(10,key=lambda x: -x[1])\n",
    "print('\\n'.join(map(lambda s: '{0}: {1}'.format(s[0], s[1]), top10WordsAndCounts)))"
   ]
  },
  {
   "cell_type": "code",
   "execution_count": 34,
   "metadata": {
    "application/vnd.databricks.v1+cell": {
     "inputWidgets": {},
     "nuid": "28128b42-e9c2-4a4b-8e9c-1f8926402ca0",
     "showTitle": false,
     "title": ""
    },
    "collapsed": false,
    "jupyter": {
     "outputs_hidden": false
    }
   },
   "outputs": [
    {
     "name": "stdout",
     "output_type": "stream",
     "text": [
      "1 test passed.\n"
     ]
    }
   ],
   "source": [
    "# TEST Count the words (4f)\n",
    "Test.assertEquals(top10WordsAndCounts,\n",
    "                  [(u'the', 30018), (u'and', 28358), (u'i', 21868), (u'to', 20890), \n",
    "                   (u'of', 18815), (u'a', 16000), (u'you', 14438), (u'my', 13191), \n",
    "                   (u'in', 12034), (u'that', 11781)],\n",
    "                  'incorrect value for top10WordsAndCounts')"
   ]
  }
 ],
 "metadata": {
  "application/vnd.databricks.v1+notebook": {
   "dashboards": [],
   "language": "python",
   "notebookMetadata": {
    "pythonIndentUnit": 2
   },
   "notebookName": "word_count",
   "notebookOrigID": 4176429342212475,
   "widgets": {}
  },
  "kernelspec": {
   "display_name": "Python 3 (ipykernel)",
   "language": "python",
   "name": "python3"
  },
  "language_info": {
   "codemirror_mode": {
    "name": "ipython",
    "version": 3
   },
   "file_extension": ".py",
   "mimetype": "text/x-python",
   "name": "python",
   "nbconvert_exporter": "python",
   "pygments_lexer": "ipython3",
   "version": "3.8.12"
  },
  "name": "word_count",
  "notebookId": 2559391805384006
 },
 "nbformat": 4,
 "nbformat_minor": 4
}
